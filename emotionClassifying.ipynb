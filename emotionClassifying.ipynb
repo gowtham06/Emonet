{
 "cells": [
  {
   "cell_type": "code",
   "execution_count": 100,
   "metadata": {},
   "outputs": [],
   "source": [
    "from keras.preprocessing.image import ImageDataGenerator\n",
    "from keras.models import Sequential\n",
    "from keras.layers import Conv2D, MaxPooling2D\n",
    "from keras.layers import Activation, Dropout, Flatten, Dense\n",
    "from keras import backend as K"
   ]
  },
  {
   "cell_type": "code",
   "execution_count": 101,
   "metadata": {},
   "outputs": [],
   "source": [
    "img_width, img_height = 150, 150"
   ]
  },
  {
   "cell_type": "code",
   "execution_count": 160,
   "metadata": {},
   "outputs": [],
   "source": [
    "train_data_dir = 'Data/train'\n",
    "validation_data_dir = 'Data/validation'\n",
    "nb_train_samples = 2000\n",
    "nb_validation_samples =800 \n",
    "epochs = 20\n",
    "batch_size = 16"
   ]
  },
  {
   "cell_type": "code",
   "execution_count": 161,
   "metadata": {},
   "outputs": [],
   "source": [
    "if K.image_data_format() == 'channels_first':\n",
    "    input_shape = (3, img_width, img_height)\n",
    "else:\n",
    "    input_shape = (img_width, img_height, 3)"
   ]
  },
  {
   "cell_type": "code",
   "execution_count": 170,
   "metadata": {},
   "outputs": [
    {
     "name": "stdout",
     "output_type": "stream",
     "text": [
      "_________________________________________________________________\n",
      "Layer (type)                 Output Shape              Param #   \n",
      "=================================================================\n",
      "conv2d_57 (Conv2D)           (None, 148, 148, 50)      1400      \n",
      "_________________________________________________________________\n",
      "activation_95 (Activation)   (None, 148, 148, 50)      0         \n",
      "_________________________________________________________________\n",
      "max_pooling2d_57 (MaxPooling (None, 74, 74, 50)        0         \n",
      "_________________________________________________________________\n",
      "conv2d_58 (Conv2D)           (None, 72, 72, 50)        22550     \n",
      "_________________________________________________________________\n",
      "activation_96 (Activation)   (None, 72, 72, 50)        0         \n",
      "_________________________________________________________________\n",
      "max_pooling2d_58 (MaxPooling (None, 36, 36, 50)        0         \n",
      "_________________________________________________________________\n",
      "conv2d_59 (Conv2D)           (None, 34, 34, 64)        28864     \n",
      "_________________________________________________________________\n",
      "activation_97 (Activation)   (None, 34, 34, 64)        0         \n",
      "_________________________________________________________________\n",
      "max_pooling2d_59 (MaxPooling (None, 17, 17, 64)        0         \n",
      "_________________________________________________________________\n",
      "flatten_21 (Flatten)         (None, 18496)             0         \n",
      "_________________________________________________________________\n",
      "dense_39 (Dense)             (None, 64)                1183808   \n",
      "_________________________________________________________________\n",
      "activation_98 (Activation)   (None, 64)                0         \n",
      "_________________________________________________________________\n",
      "dropout_20 (Dropout)         (None, 64)                0         \n",
      "_________________________________________________________________\n",
      "dense_40 (Dense)             (None, 2)                 130       \n",
      "_________________________________________________________________\n",
      "activation_99 (Activation)   (None, 2)                 0         \n",
      "=================================================================\n",
      "Total params: 1,236,752\n",
      "Trainable params: 1,236,752\n",
      "Non-trainable params: 0\n",
      "_________________________________________________________________\n",
      "None\n"
     ]
    }
   ],
   "source": [
    "nos_classes=2\n",
    "model = Sequential()\n",
    "model.add(Conv2D(50, (3, 3), input_shape=input_shape))\n",
    "model.add(Activation('relu'))\n",
    "model.add(MaxPooling2D(pool_size=(2, 2)))\n",
    "model.add(Conv2D(50, (3, 3)))\n",
    "model.add(Activation('relu'))\n",
    "model.add(MaxPooling2D(pool_size=(2, 2)))\n",
    "model.add(Conv2D(64, (3, 3)))\n",
    "model.add(Activation('relu'))\n",
    "model.add(MaxPooling2D(pool_size=(2, 2)))\n",
    "model.add(Flatten())\n",
    "model.add(Dense(64))\n",
    "model.add(Activation('relu'))\n",
    "model.add(Dropout(0.5))\n",
    "model.add(Dense(nos_classes))\n",
    "model.add(Activation('softmax'))\n",
    "print(model.summary())"
   ]
  },
  {
   "cell_type": "code",
   "execution_count": 171,
   "metadata": {},
   "outputs": [],
   "source": [
    "model.compile(loss='binary_crossentropy',optimizer='adam',metrics=['accuracy'])"
   ]
  },
  {
   "cell_type": "code",
   "execution_count": 172,
   "metadata": {},
   "outputs": [],
   "source": [
    "train_datagen = ImageDataGenerator(rescale=1. / 255,shear_range=0.2,zoom_range=0.2,horizontal_flip=True)"
   ]
  },
  {
   "cell_type": "code",
   "execution_count": 173,
   "metadata": {},
   "outputs": [],
   "source": [
    "test_datagen = ImageDataGenerator(rescale=1. / 255)"
   ]
  },
  {
   "cell_type": "code",
   "execution_count": 174,
   "metadata": {},
   "outputs": [
    {
     "name": "stdout",
     "output_type": "stream",
     "text": [
      "Found 20000 images belonging to 2 classes.\n"
     ]
    }
   ],
   "source": [
    "train_generator = train_datagen.flow_from_directory(train_data_dir,target_size=(img_width, img_height),batch_size=batch_size,class_mode='categorical')"
   ]
  },
  {
   "cell_type": "code",
   "execution_count": 168,
   "metadata": {},
   "outputs": [
    {
     "name": "stdout",
     "output_type": "stream",
     "text": [
      "Found 5000 images belonging to 2 classes.\n"
     ]
    }
   ],
   "source": [
    "validation_generator = test_datagen.flow_from_directory(validation_data_dir,target_size=(img_width, img_height),batch_size=batch_size,class_mode='categorical')\n"
   ]
  },
  {
   "cell_type": "code",
   "execution_count": null,
   "metadata": {},
   "outputs": [
    {
     "name": "stdout",
     "output_type": "stream",
     "text": [
      "Epoch 1/1000\n",
      "40/40 [==============================] - 256s 6s/step - loss: 0.7096 - acc: 0.4870 - val_loss: 0.6933 - val_acc: 0.4727\n",
      "Epoch 2/1000\n",
      "40/40 [==============================] - 231s 6s/step - loss: 0.6932 - acc: 0.4890 - val_loss: 0.6932 - val_acc: 0.4688\n",
      "Epoch 3/1000\n",
      "40/40 [==============================] - 220s 6s/step - loss: 0.6932 - acc: 0.4910 - val_loss: 0.6931 - val_acc: 0.5000\n",
      "Epoch 4/1000\n",
      "40/40 [==============================] - 25747s 644s/step - loss: 0.6932 - acc: 0.5065 - val_loss: 0.6937 - val_acc: 0.4648\n",
      "Epoch 5/1000\n",
      "40/40 [==============================] - 254s 6s/step - loss: 0.6933 - acc: 0.4925 - val_loss: 0.6931 - val_acc: 0.5078\n",
      "Epoch 6/1000\n",
      "40/40 [==============================] - 227s 6s/step - loss: 0.6932 - acc: 0.5010 - val_loss: 0.6931 - val_acc: 0.5078\n",
      "Epoch 7/1000\n",
      "40/40 [==============================] - 295s 7s/step - loss: 0.6931 - acc: 0.5120 - val_loss: 0.6926 - val_acc: 0.5469\n",
      "Epoch 8/1000\n",
      "40/40 [==============================] - 278s 7s/step - loss: 0.6932 - acc: 0.5015 - val_loss: 0.6932 - val_acc: 0.5000\n",
      "Epoch 9/1000\n",
      "40/40 [==============================] - 386s 10s/step - loss: 0.6932 - acc: 0.5005 - val_loss: 0.6935 - val_acc: 0.4648\n",
      "Epoch 10/1000\n",
      "35/40 [=========================>....] - ETA: 42s - loss: 0.6932 - acc: 0.4909"
     ]
    }
   ],
   "source": [
    "epochs = 1000\n",
    "batch_size = 50\n",
    "history=model.fit_generator(train_generator,steps_per_epoch=nb_train_samples // batch_size,epochs=epochs,\n",
    "    validation_data=validation_generator,\n",
    "    validation_steps=nb_validation_samples // batch_size)"
   ]
  },
  {
   "cell_type": "code",
   "execution_count": 76,
   "metadata": {},
   "outputs": [],
   "source": [
    "model.save_weights(\"initialClassifier.h5\")"
   ]
  },
  {
   "cell_type": "code",
   "execution_count": 132,
   "metadata": {},
   "outputs": [
    {
     "data": {
      "image/png": "[encoded data removed]",
      "text/plain": [
       "<matplotlib.figure.Figure at 0x1819fd7f60>"
      ]
     },
     "metadata": {},
     "output_type": "display_data"
    }
   ],
   "source": [
    "import matplotlib.pyplot as plt\n",
    "plt.subplot(211)\n",
    "plt.title(\"Accuracy\")\n",
    "plt.plot(history.history[\"acc\"], color=\"g\", label=\"Train\")\n",
    "plt.plot(history.history[\"val_acc\"], color=\"b\", label=\"Validation\")\n",
    "plt.legend(loc=\"best\")\n",
    "plt.subplot(212)\n",
    "plt.title(\"Loss\")\n",
    "plt.plot(history.history[\"loss\"], color=\"g\", label=\"Train\")\n",
    "plt.plot(history.history[\"val_loss\"], color=\"b\", label=\"Validation\")\n",
    "plt.legend(loc=\"best\")\n",
    "plt.tight_layout()\n",
    "plt.show()"
   ]
  },
  {
   "cell_type": "code",
   "execution_count": null,
   "metadata": {},
   "outputs": [],
   "source": []
  }
 ],
 "metadata": {
  "kernelspec": {
   "display_name": "Python 3",
   "language": "python",
   "name": "python3"
  },
  "language_info": {
   "codemirror_mode": {
    "name": "ipython",
    "version": 3
   },
   "file_extension": ".py",
   "mimetype": "text/x-python",
   "name": "python",
   "nbconvert_exporter": "python",
   "pygments_lexer": "ipython3",
   "version": "3.6.4"
  }
 },
 "nbformat": 4,
 "nbformat_minor": 2
}
